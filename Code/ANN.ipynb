{
 "cells": [
  {
   "cell_type": "markdown",
   "metadata": {},
   "source": [
    "# Activation function"
   ]
  },
  {
   "cell_type": "markdown",
   "metadata": {},
   "source": [
    "\\begin{align*}\n",
    "Binary \\space Step \\space Function (x) = \n",
    "\\begin{cases}\n",
    "1 \\quad if \\quad \\sum_{i=1}^{m} w_i x_i + b \\ge threshold \\\\\n",
    "0 \\quad if \\quad \\sum_{i=1}^{m} w_i x_i + b \\lt threshold \\\\\n",
    "\\end{cases}\n",
    "\\end{align*}"
   ]
  },
  {
   "cell_type": "markdown",
   "metadata": {},
   "source": [
    "\\begin{align*}\n",
    "ReLU (x) = \n",
    "\\begin{cases}\n",
    "0 \\quad if \\quad x \\lt 0 \\\\\n",
    "1 \\quad if \\quad x \\ge  x\n",
    "\\end{cases}\n",
    "\\end{align*}"
   ]
  },
  {
   "cell_type": "markdown",
   "metadata": {},
   "source": [
    "\\begin{align*}\n",
    "Sigmoid (x) = \n",
    "\n",
    "\\frac{1}{1 + e^{-x}} \\in [0, 1]\n",
    "\n",
    "\\end{align*}"
   ]
  },
  {
   "cell_type": "markdown",
   "metadata": {},
   "source": [
    "\\begin{align*}\n",
    "Tanh (x) = \n",
    "\n",
    "\\frac{ e^{x} - e^{-x}  }{ e^{x} + e^{-x}} \\in [0, 1]\n",
    "\n",
    "\\end{align*}"
   ]
  },
  {
   "cell_type": "markdown",
   "metadata": {},
   "source": [
    "# Derivative / Gradient"
   ]
  },
  {
   "cell_type": "markdown",
   "metadata": {},
   "source": [
    "## Derivative"
   ]
  },
  {
   "cell_type": "markdown",
   "metadata": {},
   "source": [
    "$$\n",
    "f'(x) = lim_{\\triangle x \\rightarrow 0} \\frac { f(x+\\triangle) - f(x) } {\\triangle x} \\\\ \n",
    "y' = lim_{\\triangle x \\rightarrow 0} \\frac { \\triangle y } {\\triangle x} \\\\\n",
    "\\frac {dy} {dx} = lim_{\\triangle x \\rightarrow 0} \\frac { \\triangle y } {\\triangle x}\n",
    "$$"
   ]
  },
  {
   "cell_type": "markdown",
   "metadata": {},
   "source": [
    "## Gradient"
   ]
  },
  {
   "cell_type": "markdown",
   "metadata": {},
   "source": [
    "$$\n",
    "\\nabla f = [ \\frac{\\partial f}{\\partial x} , \\frac{\\partial f}{\\partial y} , \\frac{\\partial f}{\\partial z} ]  \\\\ \n",
    "\\nabla f = [ \\frac{\\partial f}{\\partial x}i + \\frac{\\partial f}{\\partial y}j + \\frac{\\partial f}{\\partial z}k ]\n",
    "$$"
   ]
  },
  {
   "cell_type": "markdown",
   "metadata": {},
   "source": [
    "## Direction of increase of function"
   ]
  },
  {
   "cell_type": "markdown",
   "metadata": {},
   "source": [
    "$$\n",
    "D_{\\vec{b}}f = \\nabla f.\\vec{b} = \\|  \\nabla f \\| \\| b \\| \\cos{\\theta}\n",
    "$$"
   ]
  },
  {
   "cell_type": "markdown",
   "metadata": {},
   "source": [
    "## Gradient Decent"
   ]
  },
  {
   "cell_type": "markdown",
   "metadata": {},
   "source": [
    "$$\n",
    "\\vec{x_0} = (x_0, y_0) \\\\\n",
    "\\vec{x_{n+1}} = \\vec{x_n} - \\eta \\nabla f \\vec{x_n}\n",
    "$$"
   ]
  },
  {
   "cell_type": "markdown",
   "metadata": {},
   "source": [
    "$w_{j, i}$ là trọng số kết nối từ ngõ vào neural thứ i đến neural thứ j ở lớp sau nó\n",
    "$$\n",
    "a_j = \\sum_{i=1}^{n}x_i w_{j,i} + b_j \\\\\n",
    "o_j = \\sigma (a_j) = \\frac{1}{1 + e^{-a_j}} \\\\\n",
    "$$"
   ]
  },
  {
   "cell_type": "markdown",
   "metadata": {},
   "source": [
    "# Cost function "
   ]
  },
  {
   "cell_type": "markdown",
   "metadata": {},
   "source": [
    "$$\n",
    "MSE = \\frac{1}{n} \\sum_{i=1}^{n} (y_i - (ax_i+b)^2) \\\\\n",
    "$$"
   ]
  },
  {
   "cell_type": "markdown",
   "metadata": {},
   "source": [
    "# Update"
   ]
  },
  {
   "cell_type": "markdown",
   "metadata": {},
   "source": [
    "$$\n",
    "J = Costfunction() \\\\\n",
    "w = w - \\eta\\frac{\\partial J}{\\partial w}\n",
    "$$"
   ]
  },
  {
   "cell_type": "markdown",
   "metadata": {},
   "source": []
  },
  {
   "cell_type": "markdown",
   "metadata": {},
   "source": [
    "# Train new neural network with gradient descent"
   ]
  },
  {
   "cell_type": "markdown",
   "metadata": {},
   "source": [
    "$$\n",
    "a_j = \\sum_{i=1}^{20}x_i w_{j, i} + b_j \\\\\n",
    "o_j = \\sigma(a_j)=\\frac{1}{1+e^{-a_j}}  \\\\\n",
    "J = \\frac{1}{5} \\sum_{t=1}^{5} \\sum_{k=1}^{5} (y_k^t - o_k^t)^2 \\space trong \\ đó \\ k: \\ là \\ số \\ ngõ \\ ra, \\ t \\ là \\ số \\ mẫu \\\n",
    "$$"
   ]
  },
  {
   "cell_type": "markdown",
   "metadata": {},
   "source": []
  },
  {
   "cell_type": "markdown",
   "metadata": {},
   "source": []
  },
  {
   "cell_type": "code",
   "execution_count": 1,
   "metadata": {},
   "outputs": [],
   "source": [
    "import numpy as np  \n",
    "import matplotlib.pyplot as plt "
   ]
  },
  {
   "cell_type": "code",
   "execution_count": 2,
   "metadata": {},
   "outputs": [],
   "source": [
    "import numpy as np\n",
    "import matplotlib.pyplot as plt\n",
    "\n",
    "# Character matrix and target labels\n",
    "char = np.matrix([\n",
    "    [0, 0, 1, 0,\n",
    "     0, 1, 1, 0,\n",
    "     0, 0, 1, 0,\n",
    "     0, 0, 1, 0,\n",
    "     1, 1, 1, 1], \n",
    "    [1, 1, 1, 1,\n",
    "     0, 0, 0, 1,\n",
    "     1, 1, 1, 1,\n",
    "     1, 0, 0, 0,\n",
    "     1, 1, 1, 1],\n",
    "    [1, 1, 1, 1,\n",
    "     0, 0, 0, 1,\n",
    "     1, 1, 1, 1,\n",
    "     0, 0, 0, 1,\n",
    "     1, 1, 1, 1],\n",
    "    [1, 0, 0, 1,\n",
    "     1, 0, 0, 1,\n",
    "     1, 1, 1, 1,\n",
    "     0, 0, 0, 1,\n",
    "     0, 0, 0, 1],\n",
    "    [1, 1, 1, 1,\n",
    "     1, 0, 0, 0,\n",
    "     1, 1, 1, 1,\n",
    "     0, 0, 0, 1,\n",
    "     1, 1, 1, 1]\n",
    "], dtype=np.int8)\n",
    "\n",
    "target = np.matrix([\n",
    "    [1, 0, 0, 0, 0],\n",
    "    [0, 1, 0, 0, 0],\n",
    "    [0, 0, 1, 0, 0],\n",
    "    [0, 0, 0, 1, 0],\n",
    "    [0, 0, 0, 0, 1],\n",
    "])\n"
   ]
  },
  {
   "cell_type": "code",
   "execution_count": 5,
   "metadata": {},
   "outputs": [],
   "source": [
    "\n",
    "# Function for sigmoid\n",
    "def sigmoid(x):\n",
    "    return 1 / (1 + np.exp(-x))"
   ]
  },
  {
   "cell_type": "code",
   "execution_count": 4,
   "metadata": {},
   "outputs": [
    {
     "data": {
      "image/png": "[encoded data removed]",
      "text/plain": [
       "<Figure size 640x480 with 1 Axes>"
      ]
     },
     "metadata": {},
     "output_type": "display_data"
    }
   ],
   "source": [
    "\n",
    "# Hyperparameters\n",
    "alpha = 0.1  # Learning rate\n",
    "epochs = 100  # Number of epochs\n",
    "\n",
    "# Weight initialization\n",
    "w = np.matrix(np.random.uniform(-0.1, 0.1, (5, 20)))\n",
    "\n",
    "# To track cost function (J) values over epochs\n",
    "J = np.zeros(epochs)\n",
    "\n",
    "for epoch in range(epochs):\n",
    "    dJ_dw = np.zeros_like(w)  # Initialize gradient to zero for each epoch\n",
    "    total_cost = 0  # Initialize total cost for each epoch\n",
    "    \n",
    "    for sample in range(5):  # Loop over all samples\n",
    "        X = char[sample, :]  # Input character sample\n",
    "        y = target[sample, :]  # Corresponding target\n",
    "        \n",
    "        # Forward pass\n",
    "        y_pred = sigmoid(np.dot(X, w.T))  # Predicted output\n",
    "        \n",
    "        # Compute error and gradients\n",
    "        error = y - y_pred\n",
    "        delta = np.multiply(np.multiply(error, y_pred), (1 - y_pred))  # Derivative of sigmoid\n",
    "        dJ_dw += delta.T * X  # Accumulate gradients\n",
    "        \n",
    "        # Cost (Mean Squared Error for this sample)\n",
    "        total_cost += np.mean(np.power(error, 2))\n",
    "    \n",
    "    # Update weights after processing all samples\n",
    "    w += alpha * dJ_dw / 5  # Gradient step, averaged over the samples\n",
    "    \n",
    "    # Store the cost for this epoch\n",
    "    J[epoch] = total_cost / 5\n",
    "\n",
    "# Plot the cost function over epochs\n",
    "plt.plot(J)\n",
    "plt.ylabel('Cost Function (J)')\n",
    "plt.xlabel('Epoch')\n",
    "plt.title('Cost Function Over Epochs')\n",
    "plt.show()\n"
   ]
  },
  {
   "cell_type": "markdown",
   "metadata": {},
   "source": [
    "# Backpropagation and gradient descent"
   ]
  },
  {
   "cell_type": "code",
   "execution_count": null,
   "metadata": {},
   "outputs": [],
   "source": [
    "import numpy as np "
   ]
  },
  {
   "cell_type": "code",
   "execution_count": null,
   "metadata": {},
   "outputs": [],
   "source": []
  }
 ],
 "metadata": {
  "kernelspec": {
   "display_name": "conda_env",
   "language": "python",
   "name": "python3"
  },
  "language_info": {
   "codemirror_mode": {
    "name": "ipython",
    "version": 3
   },
   "file_extension": ".py",
   "mimetype": "text/x-python",
   "name": "python",
   "nbconvert_exporter": "python",
   "pygments_lexer": "ipython3",
   "version": "3.12.0"
  }
 },
 "nbformat": 4,
 "nbformat_minor": 2
}

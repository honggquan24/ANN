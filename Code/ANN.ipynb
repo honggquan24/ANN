{
 "cells": [
  {
   "cell_type": "markdown",
   "metadata": {},
   "source": [
    "# Activation function"
   ]
  },
  {
   "cell_type": "markdown",
   "metadata": {},
   "source": [
    "\\begin{align*}\n",
    "Binary \\space Step \\space Function (x) = \n",
    "\\begin{cases}\n",
    "1 \\quad if \\quad \\sum_{i=1}^{m} w_i x_i + b \\ge threshold \\\\\n",
    "0 \\quad if \\quad \\sum_{i=1}^{m} w_i x_i + b \\lt threshold \\\\\n",
    "\\end{cases}\n",
    "\\end{align*}"
   ]
  },
  {
   "cell_type": "markdown",
   "metadata": {},
   "source": [
    "\\begin{align*}\n",
    "ReLU (x) = \n",
    "\\begin{cases}\n",
    "0 \\quad if \\quad x \\lt 0 \\\\\n",
    "1 \\quad if \\quad x \\ge  x\n",
    "\\end{cases}\n",
    "\\end{align*}"
   ]
  },
  {
   "cell_type": "markdown",
   "metadata": {},
   "source": [
    "\\begin{align*}\n",
    "Sigmoid (x) = \n",
    "\n",
    "\\frac{1}{1 + e^{-x}} \\in [0, 1]\n",
    "\n",
    "\\end{align*}"
   ]
  },
  {
   "cell_type": "markdown",
   "metadata": {},
   "source": [
    "\\begin{align*}\n",
    "Tanh (x) = \n",
    "\n",
    "\\frac{ e^{x} - e^{-x}  }{ e^{x} + e^{-x}} \\in [0, 1]\n",
    "\n",
    "\\end{align*}"
   ]
  },
  {
   "cell_type": "markdown",
   "metadata": {},
   "source": [
    "# Derivative / Gradient"
   ]
  },
  {
   "cell_type": "markdown",
   "metadata": {},
   "source": [
    "## Derivative"
   ]
  },
  {
   "cell_type": "markdown",
   "metadata": {},
   "source": [
    "$$\n",
    "f'(x) = lim_{\\triangle x \\rightarrow 0} \\frac { f(x+\\triangle) - f(x) } {\\triangle x} \\\\ \n",
    "y' = lim_{\\triangle x \\rightarrow 0} \\frac { \\triangle y } {\\triangle x} \\\\\n",
    "\\frac {dy} {dx} = lim_{\\triangle x \\rightarrow 0} \\frac { \\triangle y } {\\triangle x}\n",
    "$$"
   ]
  },
  {
   "cell_type": "markdown",
   "metadata": {},
   "source": [
    "## Gradient"
   ]
  },
  {
   "cell_type": "markdown",
   "metadata": {},
   "source": [
    "$$\n",
    "\\nabla f = [ \\frac{\\partial f}{\\partial x} , \\frac{\\partial f}{\\partial y} , \\frac{\\partial f}{\\partial z} ]  \\\\ \n",
    "\\nabla f = [ \\frac{\\partial f}{\\partial x}i + \\frac{\\partial f}{\\partial y}j + \\frac{\\partial f}{\\partial z}k ]\n",
    "$$"
   ]
  },
  {
   "cell_type": "markdown",
   "metadata": {},
   "source": [
    "## Direction of increase of function"
   ]
  },
  {
   "cell_type": "markdown",
   "metadata": {},
   "source": [
    "$$\n",
    "D_{\\vec{b}}f = \\nabla f.\\vec{b} = \\|  \\nabla f \\| \\| b \\| \\cos{\\theta}\n",
    "$$"
   ]
  },
  {
   "cell_type": "markdown",
   "metadata": {},
   "source": [
    "## Gradient Decent"
   ]
  },
  {
   "cell_type": "markdown",
   "metadata": {},
   "source": [
    "$$\n",
    "\\vec{x_0} = (x_0, y_0) \\\\\n",
    "\\vec{x_{n+1}} = \\vec{x_n} - \\eta \\nabla f \\vec{x_n}\n",
    "$$"
   ]
  },
  {
   "cell_type": "markdown",
   "metadata": {},
   "source": [
    "$w_{i, j}$ là trọng số kết nối từ ngõ vào neural thứ i đến neural thứ j ở lớp sau nó\n",
    "$$\n",
    "a_j = \\sum_{i=1}^{n}x_i w_{j,i} + b_j \\\\\n",
    "o_j = \\sigma (a_j) = \\frac{1}{1 + e^{-a_j}} \\\\\n",
    "$$"
   ]
  },
  {
   "cell_type": "markdown",
   "metadata": {},
   "source": [
    "# Cost function "
   ]
  },
  {
   "cell_type": "markdown",
   "metadata": {},
   "source": [
    "$$\n",
    "MSE = \\frac{1}{n} \\sum_{i=1}^{n} (y_i - (ax_i+b)^2)\n",
    "$$"
   ]
  },
  {
   "cell_type": "markdown",
   "metadata": {},
   "source": [
    "# Update"
   ]
  },
  {
   "cell_type": "markdown",
   "metadata": {},
   "source": [
    "$$\n",
    "J = Costfunction() \\\\\n",
    "w = w - \\eta\\frac{\\partial J}{\\partial w}\n",
    "$$"
   ]
  },
  {
   "cell_type": "markdown",
   "metadata": {},
   "source": []
  }
 ],
 "metadata": {
  "language_info": {
   "name": "python"
  }
 },
 "nbformat": 4,
 "nbformat_minor": 2
}

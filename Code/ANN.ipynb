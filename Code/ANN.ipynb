{
 "cells": [
  {
   "cell_type": "markdown",
   "metadata": {},
   "source": [
    "\\begin{align*}\n",
    "Binary \\space Step \\space Function (x) = \n",
    "\\begin{cases}\n",
    "1 \\quad if \\quad x \\ge threshold \\\\\n",
    "0 \\quad if \\quad x \\lt threshold \\\\\n",
    "\\end{cases}\n",
    "\\end{align*}"
   ]
  },
  {
   "cell_type": "markdown",
   "metadata": {},
   "source": [
    "\\begin{align*}\n",
    "ReLU (x) = \n",
    "\\begin{cases}\n",
    "0 \\quad if \\quad x \\lt 0 \\\\\n",
    "1 \\quad if \\quad x \\ge  x\n",
    "\\end{cases}\n",
    "\\end{align*}"
   ]
  },
  {
   "cell_type": "markdown",
   "metadata": {},
   "source": [
    "\\begin{align*}\n",
    "Sigmoid (x) = \n",
    "\n",
    "\\frac{1}{1 + e^{-x}} \\in [0, 1]\n",
    "\n",
    "\\end{align*}"
   ]
  },
  {
   "cell_type": "markdown",
   "metadata": {},
   "source": [
    "\\begin{align*}\n",
    "Tanh (x) = \n",
    "\n",
    "\\frac{ e^{x} - e^{-x}  }{ e^{x} + e^{-x}} \\in [0, 1]\n",
    "\n",
    "\\end{align*}"
   ]
  },
  {
   "cell_type": "markdown",
   "metadata": {},
   "source": []
  }
 ],
 "metadata": {
  "language_info": {
   "name": "python"
  }
 },
 "nbformat": 4,
 "nbformat_minor": 2
}
